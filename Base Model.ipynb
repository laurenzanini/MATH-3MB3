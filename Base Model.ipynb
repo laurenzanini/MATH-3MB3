{
 "cells": [
  {
   "cell_type": "markdown",
   "id": "6792c767",
   "metadata": {},
   "source": [
    "$$\n",
    "\\begin{align}\n",
    "{P_1(N+1)} = r_1 P_1(N) + r_2 P_2(N) + r_3 P_3(N) + ... + r_{16} P_{16}(N)\n",
    "\\end{align}\n",
    "$$\n",
    "\n",
    "$$\n",
    "\\begin{align}\n",
    "{P_2(N+1)} = S_{1} P_1(N)\\\\\n",
    "{P_3(N+1)} = S_{2} P_2(N)\\\\\n",
    "{P_4(N+1)} = S_{3} P_3(N)\\\\\n",
    "...\\\\\n",
    "{P_{16}(N+1)} = S_{15} P_{15}(N)\n",
    "\\end{align}\n",
    "$$\n",
    "\n",
    "\n",
    "- where $r_x$ is the reproduction rate and $s_x$ is the survival rate where x is the data of corresponding age class.\n"
   ]
  },
  {
   "cell_type": "markdown",
   "id": "2a8216c1",
   "metadata": {},
   "source": [
    "$$\n",
    "\\begin{equation}\n",
    "\\begin{bmatrix}\n",
    "P_1(N+1)\\\\P_2(N+1)\\\\P_3(N+1)\\\\P_4(N+1)\\\\P_5(N+1)\\\\P_6(N+1)\\\\P_7(N+1)\\\\P_8(N+1)\\\\P_9(N+1)\\\\P_{10}(N+1)\\\\P_{11}(N+1)\\\\P_{12}(N+1)\\\\P_{13}(N+1)\\\\P_{14}(N+1)\\\\P_{15}(N+1)\\\\P_{16}(N+1) \\end{bmatrix}= \\begin{bmatrix} r_1&r_2&r_3&r_4&r_5&r_6&r_7&r_8&r_9&r_{10}&r_{11}&r_{12}&r_{13}&r_{14}&r_{15}&r_{16} \\\\ \n",
    "s_1 & 0 & 0 & 0 & 0 & 0 & 0 & 0 & 0 & 0 & 0 & 0 & 0 & 0 & 0 & 0 \\\\\n",
    "0 & s_2 & 0 & 0 & 0 & 0 & 0 & 0 & 0 & 0 & 0 & 0 & 0 & 0 & 0 & 0 \\\\\n",
    "0 & 0 & s_3 & 0 & 0 & 0 & 0 & 0 & 0 & 0 & 0 & 0 & 0 & 0 & 0 & 0 \\\\\n",
    "0 & 0 & 0 & s_4 & 0 & 0 & 0 & 0 & 0 & 0 & 0 & 0 & 0 & 0 & 0 & 0 \\\\\n",
    "0 & 0 & 0 & 0 & s_5 & 0 & 0 & 0 & 0 & 0 & 0 & 0 & 0 & 0 & 0 & 0 \\\\\n",
    "0 & 0 & 0 & 0 & 0 & s_6 & 0 & 0 & 0 & 0 & 0 & 0 & 0 & 0 & 0 & 0 \\\\\n",
    "0 & 0 & 0 & 0 & 0 & 0 & s_7 & 0 & 0 & 0 & 0 & 0 & 0 & 0 & 0 & 0 \\\\\n",
    "0 & 0 & 0 & 0 & 0 & 0 & 0 & s_8 & 0 & 0 & 0 & 0 & 0 & 0 & 0 & 0 \\\\\n",
    "0 & 0 & 0 & 0 & 0 & 0 & 0 & 0 & s_9 & 0 & 0 & 0 & 0 & 0 & 0 & 0 \\\\\n",
    "0 & 0 & 0 & 0 & 0 & 0 & 0 & 0 & 0 & s_{10} & 0 & 0 & 0 & 0 & 0 & 0 \\\\\n",
    "0 & 0 & 0 & 0 & 0 & 0 & 0 & 0 & 0 & 0 & s_{11} & 0 & 0 & 0 & 0 & 0 \\\\\n",
    "0 & 0 & 0 & 0 & 0 & 0 & 0 & 0 & 0 & 0 & 0 & s_{12} & 0 & 0 & 0 & 0 \\\\\n",
    "0 & 0 & 0 & 0 & 0 & 0 & 0 & 0 & 0 & 0 & 0 & 0 & s_{13} & 0 & 0 & 0 \\\\\n",
    "0 & 0 & 0 & 0 & 0 & 0 & 0 & 0 & 0 & 0 & 0 & 0 & 0 & s_{14} & 0 & 0 \\\\\n",
    "0 & 0 & 0 & 0 & 0 & 0 & 0 & 0 & 0 & 0 & 0 & 0 & 0 & 0 & s_{15} & 0 \n",
    "\\end{bmatrix}\n",
    "\\begin{bmatrix} P_1(N)\\\\P_2(N)\\\\P_3(N)\\\\P_4(N)\\\\P_5(N)\\\\P_6(N)\\\\P_7(N)\\\\P_8(N)\\\\P_9(N)\\\\P_{10}(N)\\\\P_{11}(N)\\\\P_{12}(N)\\\\\n",
    "P_{13}(N)\\\\P_{14}(N)\\\\P_{15}(N)\\\\P_{16}(N)\\end{bmatrix}\n",
    "\\end{equation}\n",
    "$$"
   ]
  }
 ],
 "metadata": {
  "kernelspec": {
   "display_name": "Python 3 (ipykernel)",
   "language": "python",
   "name": "python3"
  },
  "language_info": {
   "codemirror_mode": {
    "name": "ipython",
    "version": 3
   },
   "file_extension": ".py",
   "mimetype": "text/x-python",
   "name": "python",
   "nbconvert_exporter": "python",
   "pygments_lexer": "ipython3",
   "version": "3.9.7"
  }
 },
 "nbformat": 4,
 "nbformat_minor": 5
}

