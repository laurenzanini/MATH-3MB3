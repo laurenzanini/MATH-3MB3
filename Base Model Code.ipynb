{
 "cells": [
  {
   "cell_type": "code",
   "execution_count": 1,
   "id": "e23a7576",
   "metadata": {},
   "outputs": [],
   "source": [
    "import numpy as np\n",
    "import pandas as pd\n",
    "import seaborn as sns\n",
    "import matplotlib.pyplot as plt\n",
    "import numpy.linalg as linalg"
   ]
  },
  {
   "cell_type": "code",
   "execution_count": 2,
   "id": "c3aac288",
   "metadata": {},
   "outputs": [],
   "source": [
    "M_best = np.array([\n",
    "    [0.63, 0.63, 1.20, 1.20, 1.20, 1.20, 1.20, 1.20, 1.20, 1.20, 1.20, 1.20, 1.20, 1.20, 1.20, 1.20],\n",
    "    [0.34, 0.00, 0.00, 0.00, 0.00, 0.00, 0.00, 0.00, 0.00, 0.00, 0.00, 0.00, 0.00, 0.00, 0.00, 0.00],\n",
    "    [0.00, 0.71, 0.00, 0.00, 0.00, 0.00, 0.00, 0.00, 0.00, 0.00, 0.00, 0.00, 0.00, 0.00, 0.00, 0.00],\n",
    "    [0.00, 0.00, 0.71, 0.00, 0.00, 0.00, 0.00, 0.00, 0.00, 0.00, 0.00, 0.00, 0.00, 0.00, 0.00, 0.00],\n",
    "    [0.00, 0.00, 0.00, 0.71, 0.00, 0.00, 0.00, 0.00, 0.00, 0.00, 0.00, 0.00, 0.00, 0.00, 0.00, 0.00],\n",
    "    [0.00, 0.00, 0.00, 0.00, 0.71, 0.00, 0.00, 0.00, 0.00, 0.00, 0.00, 0.00, 0.00, 0.00, 0.00, 0.00],\n",
    "    [0.00, 0.00, 0.00, 0.00, 0.00, 0.71, 0.00, 0.00, 0.00, 0.00, 0.00, 0.00, 0.00, 0.00, 0.00, 0.00],\n",
    "    [0.00, 0.00, 0.00, 0.00, 0.00, 0.00, 0.71, 0.00, 0.00, 0.00, 0.00, 0.00, 0.00, 0.00, 0.00, 0.00],\n",
    "    [0.00, 0.00, 0.00, 0.00, 0.00, 0.00, 0.00, 0.71, 0.00, 0.00, 0.00, 0.00, 0.00, 0.00, 0.00, 0.00],\n",
    "    [0.00, 0.00, 0.00, 0.00, 0.00, 0.00, 0.00, 0.00, 0.71, 0.00, 0.00, 0.00, 0.00, 0.00, 0.00, 0.00],\n",
    "    [0.00, 0.00, 0.00, 0.00, 0.00, 0.00, 0.00, 0.00, 0.00, 0.71, 0.00, 0.00, 0.00, 0.00, 0.00, 0.00],\n",
    "    [0.00, 0.00, 0.00, 0.00, 0.00, 0.00, 0.00, 0.00, 0.00, 0.00, 0.71, 0.00, 0.00, 0.00, 0.00, 0.00],\n",
    "    [0.00, 0.00, 0.00, 0.00, 0.00, 0.00, 0.00, 0.00, 0.00, 0.00, 0.00, 0.71, 0.00, 0.00, 0.00, 0.00],\n",
    "    [0.00, 0.00, 0.00, 0.00, 0.00, 0.00, 0.00, 0.00, 0.00, 0.00, 0.00, 0.00, 0.71, 0.00, 0.00, 0.00],\n",
    "    [0.00, 0.00, 0.00, 0.00, 0.00, 0.00, 0.00, 0.00, 0.00, 0.00, 0.00, 0.00, 0.00, 0.71, 0.00, 0.00],\n",
    "    [0.00, 0.00, 0.00, 0.00, 0.00, 0.00, 0.00, 0.00, 0.00, 0.00, 0.00, 0.00, 0.00, 0.00, 0.71, 0.00]])"
   ]
  },
  {
   "cell_type": "code",
   "execution_count": 3,
   "id": "ee592cb4",
   "metadata": {},
   "outputs": [
    {
     "name": "stdout",
     "output_type": "stream",
     "text": [
      "-0.834833558512313\n"
     ]
    }
   ],
   "source": [
    "I_best = np.identity(16)\n",
    "A_best = I_best - M_best\n",
    "print(linalg.det(A_best))"
   ]
  },
  {
   "cell_type": "code",
   "execution_count": 4,
   "id": "18e76f60",
   "metadata": {},
   "outputs": [
    {
     "data": {
      "text/plain": [
       "array([False,  True,  True,  True,  True,  True,  True,  True,  True,\n",
       "        True,  True,  True,  True,  True,  True,  True])"
      ]
     },
     "execution_count": 4,
     "metadata": {},
     "output_type": "execute_result"
    }
   ],
   "source": [
    "eig_best, P_best = linalg.eig(M_best)\n",
    "np.abs(eig_best) < 1"
   ]
  },
  {
   "cell_type": "code",
   "execution_count": 5,
   "id": "da64eb7b",
   "metadata": {},
   "outputs": [],
   "source": [
    "M_worst = np.array([\n",
    "    [0.60, 0.60, 1.15, 1.15, 1.15, 1.15, 1.15, 1.15, 1.15, 1.15, 1.15, 1.15, 1.15, 1.15, 1.15, 1.15],\n",
    "    [0.32, 0.00, 0.00, 0.00, 0.00, 0.00, 0.00, 0.00, 0.00, 0.00, 0.00, 0.00, 0.00, 0.00, 0.00, 0.00],\n",
    "    [0.00, 0.68, 0.00, 0.00, 0.00, 0.00, 0.00, 0.00, 0.00, 0.00, 0.00, 0.00, 0.00, 0.00, 0.00, 0.00],\n",
    "    [0.00, 0.00, 0.68, 0.00, 0.00, 0.00, 0.00, 0.00, 0.00, 0.00, 0.00, 0.00, 0.00, 0.00, 0.00, 0.00],\n",
    "    [0.00, 0.00, 0.00, 0.68, 0.00, 0.00, 0.00, 0.00, 0.00, 0.00, 0.00, 0.00, 0.00, 0.00, 0.00, 0.00],\n",
    "    [0.00, 0.00, 0.00, 0.00, 0.68, 0.00, 0.00, 0.00, 0.00, 0.00, 0.00, 0.00, 0.00, 0.00, 0.00, 0.00],\n",
    "    [0.00, 0.00, 0.00, 0.00, 0.00, 0.68, 0.00, 0.00, 0.00, 0.00, 0.00, 0.00, 0.00, 0.00, 0.00, 0.00],\n",
    "    [0.00, 0.00, 0.00, 0.00, 0.00, 0.00, 0.68, 0.00, 0.00, 0.00, 0.00, 0.00, 0.00, 0.00, 0.00, 0.00],\n",
    "    [0.00, 0.00, 0.00, 0.00, 0.00, 0.00, 0.00, 0.68, 0.00, 0.00, 0.00, 0.00, 0.00, 0.00, 0.00, 0.00],\n",
    "    [0.00, 0.00, 0.00, 0.00, 0.00, 0.00, 0.00, 0.00, 0.68, 0.00, 0.00, 0.00, 0.00, 0.00, 0.00, 0.00],\n",
    "    [0.00, 0.00, 0.00, 0.00, 0.00, 0.00, 0.00, 0.00, 0.00, 0.68, 0.00, 0.00, 0.00, 0.00, 0.00, 0.00],\n",
    "    [0.00, 0.00, 0.00, 0.00, 0.00, 0.00, 0.00, 0.00, 0.00, 0.00, 0.68, 0.00, 0.00, 0.00, 0.00, 0.00],\n",
    "    [0.00, 0.00, 0.00, 0.00, 0.00, 0.00, 0.00, 0.00, 0.00, 0.00, 0.00, 0.68, 0.00, 0.00, 0.00, 0.00],\n",
    "    [0.00, 0.00, 0.00, 0.00, 0.00, 0.00, 0.00, 0.00, 0.00, 0.00, 0.00, 0.00, 0.68, 0.00, 0.00, 0.00],\n",
    "    [0.00, 0.00, 0.00, 0.00, 0.00, 0.00, 0.00, 0.00, 0.00, 0.00, 0.00, 0.00, 0.00, 0.68, 0.00, 0.00],\n",
    "    [0.00, 0.00, 0.00, 0.00, 0.00, 0.00, 0.00, 0.00, 0.00, 0.00, 0.00, 0.00, 0.00, 0.00, 0.68, 0.00]])"
   ]
  },
  {
   "cell_type": "code",
   "execution_count": 6,
   "id": "be5db4ed",
   "metadata": {},
   "outputs": [
    {
     "name": "stdout",
     "output_type": "stream",
     "text": [
      "-0.5704654711493543\n"
     ]
    }
   ],
   "source": [
    "I_worst = np.identity(16)\n",
    "A_worst = I_worst - M_worst\n",
    "print(linalg.det(A_worst))"
   ]
  },
  {
   "cell_type": "code",
   "execution_count": 7,
   "id": "3d422998",
   "metadata": {},
   "outputs": [
    {
     "data": {
      "text/plain": [
       "array([False,  True,  True,  True,  True,  True,  True,  True,  True,\n",
       "        True,  True,  True,  True,  True,  True,  True])"
      ]
     },
     "execution_count": 7,
     "metadata": {},
     "output_type": "execute_result"
    }
   ],
   "source": [
    "eig_worst, P_w = linalg.eig(M_worst)\n",
    "\n",
    "np.abs(eig_worst) < 1"
   ]
  },
  {
   "cell_type": "code",
   "execution_count": 8,
   "id": "badd7ab2",
   "metadata": {},
   "outputs": [
    {
     "name": "stdout",
     "output_type": "stream",
     "text": [
      "[[402.76223209]\n",
      " [110.62988666]\n",
      " [ 64.79101649]\n",
      " [ 40.3118688 ]\n",
      " [ 21.97716704]\n",
      " [  0.86399715]\n",
      " [  1.80422935]\n",
      " [  1.80422935]\n",
      " [  1.80422935]\n",
      " [  1.80422935]\n",
      " [  1.80422935]\n",
      " [  1.80422935]\n",
      " [  1.80422935]\n",
      " [  1.80422935]\n",
      " [  1.80422935]\n",
      " [  1.80422935]]\n",
      "[659.37846175]\n"
     ]
    }
   ],
   "source": [
    "init_vals = np.array([[10,10,10,10,10,10,10,10,10,10,10,10,10,10,10,10]])\n",
    "\n",
    "def population_b(T = 5,init_vals= init_vals):\n",
    "        \n",
    "    x_n = linalg.matrix_power(M_best,T).dot(init_vals.transpose())\n",
    "    \n",
    "\n",
    "    return x_n\n",
    "x_n = population_b()\n",
    "\n",
    "print(x_n)\n",
    "\n",
    "print(sum(x_n))"
   ]
  },
  {
   "cell_type": "code",
   "execution_count": 9,
   "id": "460f7a71",
   "metadata": {},
   "outputs": [],
   "source": [
    "def total_best(T = 50,init_vals= init_vals):\n",
    "    i = 0\n",
    "    total_p = np.zeros(T+1)\n",
    "    tvec = np.arange(T+1)\n",
    "    init_vals = init_vals.flatten()\n",
    "    for i in tvec:\n",
    "        if i == 0:\n",
    "            total_p[i] = sum(init_vals)\n",
    "        else:\n",
    "            x_n = linalg.matrix_power(M_best,i).dot(init_vals.transpose())\n",
    "            total_p[i] = sum(x_n)\n",
    "    return total_p\n",
    "\n",
    "total_p = total_best()"
   ]
  },
  {
   "cell_type": "code",
   "execution_count": 10,
   "id": "5fb430bf",
   "metadata": {},
   "outputs": [
    {
     "data": {
      "text/plain": [
       "Text(0, 0.5, 'Population')"
      ]
     },
     "execution_count": 10,
     "metadata": {},
     "output_type": "execute_result"
    },
    {
     "data": {
      "image/png": "[encoded data removed]",
      "text/plain": [
       "<Figure size 432x288 with 1 Axes>"
      ]
     },
     "metadata": {
      "needs_background": "light"
     },
     "output_type": "display_data"
    }
   ],
   "source": [
    "number = np.arange(51)\n",
    "total_p = total_best()\n",
    "plt.scatter(number, total_p,s = 5)\n",
    "plt.title('Total population in the Best Case')\n",
    "plt.xlabel('Years')\n",
    "plt.ylabel('Population')"
   ]
  },
  {
   "cell_type": "code",
   "execution_count": 11,
   "id": "01ba0cdb",
   "metadata": {},
   "outputs": [],
   "source": [
    "def total_worst(T = 20,init_vals= init_vals):\n",
    "    i = 0\n",
    "    total_p = np.zeros(T+1)\n",
    "    tvec = np.arange(T+1)\n",
    "    init_vals = init_vals.flatten()\n",
    "    for i in tvec:\n",
    "        if i == 0:\n",
    "            total_p[i] = sum(init_vals)\n",
    "        else:\n",
    "            x_n = linalg.matrix_power(M_worst,i).dot(init_vals.transpose())\n",
    "            total_p[i] = sum(x_n)\n",
    "    return total_p\n",
    "\n",
    "total_p = total_worst()"
   ]
  },
  {
   "cell_type": "code",
   "execution_count": 12,
   "id": "c2b36828",
   "metadata": {},
   "outputs": [
    {
     "data": {
      "text/plain": [
       "Text(0, 0.5, 'Population')"
      ]
     },
     "execution_count": 12,
     "metadata": {},
     "output_type": "execute_result"
    },
    {
     "data": {
      "image/png": "[encoded data removed]",
      "text/plain": [
       "<Figure size 432x288 with 1 Axes>"
      ]
     },
     "metadata": {
      "needs_background": "light"
     },
     "output_type": "display_data"
    }
   ],
   "source": [
    "number = np.arange(21)\n",
    "total_p = total_worst()\n",
    "plt.scatter(number, total_p,s = 5)\n",
    "plt.title('Total population in the Worst Case')\n",
    "plt.xlabel('Years')\n",
    "plt.ylabel('Population')\n"
   ]
  },
  {
   "cell_type": "code",
   "execution_count": 13,
   "id": "1a27f6c1",
   "metadata": {},
   "outputs": [
    {
     "data": {
      "image/png": "[encoded data removed]",
      "text/plain": [
       "<Figure size 432x288 with 1 Axes>"
      ]
     },
     "metadata": {
      "needs_background": "light"
     },
     "output_type": "display_data"
    }
   ],
   "source": [
    "number = np.arange(17)\n",
    "number = number[1:]\n",
    "x_n = x_n.flatten()\n",
    "\n",
    "case1 = population_b()\n",
    "case2 = population_b(T = 10)\n",
    "case3 = population_b(T = 20)\n",
    "\n",
    "plt.scatter(number, case1,c = 'blue',label = 'After 5 Years',s = 5)\n",
    "plt.scatter(number, case2,c = 'red',label = 'After 10 Years',s = 5)\n",
    "plt.scatter(number, case3,c = 'green',label = 'After 20 Years',s = 5)\n",
    "plt.title('Best Case')\n",
    "plt.xlabel('Ages')\n",
    "plt.ylabel('Population')\n",
    "plt.legend(loc=\"upper right\");\n",
    "    \n",
    "plt.show()"
   ]
  },
  {
   "cell_type": "code",
   "execution_count": 14,
   "id": "eb46f68e",
   "metadata": {},
   "outputs": [
    {
     "name": "stdout",
     "output_type": "stream",
     "text": [
      "[[318.4662272 ]\n",
      " [ 86.42671616]\n",
      " [ 50.91126272]\n",
      " [ 31.8427136 ]\n",
      " [ 17.40695552]\n",
      " [  0.68420403]\n",
      " [  1.45393357]\n",
      " [  1.45393357]\n",
      " [  1.45393357]\n",
      " [  1.45393357]\n",
      " [  1.45393357]\n",
      " [  1.45393357]\n",
      " [  1.45393357]\n",
      " [  1.45393357]\n",
      " [  1.45393357]\n",
      " [  1.45393357]]\n",
      "[520.27741491]\n"
     ]
    }
   ],
   "source": [
    "init_vals = np.array([[10,10,10,10,10,10,10,10,10,10,10,10,10,10,10,10]])\n",
    "\n",
    "def population_w(T = 5,init_vals= init_vals):\n",
    "        \n",
    "    x_n2 = linalg.matrix_power(M_worst,T).dot(init_vals.transpose())\n",
    "    \n",
    "\n",
    "    return x_n2\n",
    "x_n2 = population_w()\n",
    "\n",
    "print(x_n2)\n",
    "print(sum(x_n2))"
   ]
  },
  {
   "cell_type": "code",
   "execution_count": 16,
   "id": "cadf05be",
   "metadata": {},
   "outputs": [
    {
     "data": {
      "image/png": "[encoded data removed]",
      "text/plain": [
       "<Figure size 432x288 with 1 Axes>"
      ]
     },
     "metadata": {
      "needs_background": "light"
     },
     "output_type": "display_data"
    }
   ],
   "source": [
    "number = np.arange(17)\n",
    "number = number[1:]\n",
    "x_n2 = x_n2.flatten()\n",
    "\n",
    "case4 = population_w()\n",
    "case5 = population_w(T = 10)\n",
    "case6 = population_w(T = 20)\n",
    "\n",
    "plt.scatter(number, case4,c = 'blue',label = 'After 5 Years',s = 5)\n",
    "plt.scatter(number, case5,c = 'red',label = 'After 10 Years',s = 5)\n",
    "plt.scatter(number, case6,c = 'green',label = 'After 20 Years',s = 5)\n",
    "plt.title('Worst Case')\n",
    "plt.xlabel('Ages')\n",
    "plt.ylabel('Population')\n",
    "plt.legend(loc=\"upper right\");\n",
    "    \n",
    "plt.show()"
   ]
  },
  {
   "cell_type": "code",
   "execution_count": null,
   "id": "b21f26f7",
   "metadata": {},
   "outputs": [],
   "source": []
  }
 ],
 "metadata": {
  "kernelspec": {
   "display_name": "Python 3 (ipykernel)",
   "language": "python",
   "name": "python3"
  },
  "language_info": {
   "codemirror_mode": {
    "name": "ipython",
    "version": 3
   },
   "file_extension": ".py",
   "mimetype": "text/x-python",
   "name": "python",
   "nbconvert_exporter": "python",
   "pygments_lexer": "ipython3",
   "version": "3.9.7"
  }
 },
 "nbformat": 4,
 "nbformat_minor": 5
}
