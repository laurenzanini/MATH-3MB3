{
 "cells": [
  {
   "cell_type": "code",
   "execution_count": 22,
   "id": "926d5e7b",
   "metadata": {},
   "outputs": [],
   "source": [
    "import numpy as np\n",
    "import matplotlib.pyplot as plt\n",
    "import pandas as pd\n",
    "import seaborn as sns\n",
    "## the fuction is set to use the worse case situation, \n",
    "##if you want to use best case, put survival_case=1 or reproduction_case=1 for best case\n",
    "def bobcat_P(N,P_1,survival_case=None,reproduction_case=None):\n",
    "    W_S=np.zeros((16,16))\n",
    "    W_S_list=[0.32]+[0.68]*15\n",
    "    np.fill_diagonal(W_S, W_S_list)   #Worst case survival rate matrix\n",
    "    \n",
    "    B_S=np.zeros((16,16))\n",
    "    B_S_list=[0.34]+[0.71]*15\n",
    "    np.fill_diagonal(B_S, B_S_list)   #Best case survival rate matrix\n",
    "    \n",
    "    W_R=np.zeros((16,16))\n",
    "    W_R_list=[0.6]*2+[1.15]*14\n",
    "    np.fill_diagonal(W_R, W_R_list)   #Worst case reproduction rate matrix\n",
    "    \n",
    "    B_R=np.zeros((16,16))\n",
    "    B_R_list=[0.63]*2+[1.2]*14\n",
    "    np.fill_diagonal(B_R, B_R_list)   #Worst case reproduction rate matrix\n",
    "    \n",
    "    sum_population=np.zeros(N)\n",
    "    P_matrix=P_1\n",
    "    \n",
    "    \n",
    "    if survival_case==1:   ##set cases\n",
    "        S=B_S\n",
    "    else:\n",
    "        S=W_S\n",
    "    if reproduction_case==1:\n",
    "        R=B_R\n",
    "    else:\n",
    "        R=W_R\n",
    "        \n",
    "        \n",
    "    for t in np.arange(N):\n",
    "        if t==0:\n",
    "            sum_population[t]=np.sum(P_1)\n",
    "        else:\n",
    "            if t ==1:\n",
    "                survivaled_P=np.dot(S,P_1)\n",
    "            else:\n",
    "                survivaled_P=np.dot(S,new_population)\n",
    "            reproducted_P=np.dot(R,survivaled_P)\n",
    "            new_survivaled_P=survivaled_P\n",
    "            for i in np.arange(len(survivaled_P))[::-1]:\n",
    "                if i!=0:\n",
    "                    new_survivaled_P[i]=survivaled_P[i-1]\n",
    "                else:\n",
    "                    new_survivaled_P[i]=0       \n",
    "            new_survivaled_P[0]=np.sum(reproducted_P)\n",
    "            new_population=new_survivaled_P\n",
    "            sum_population[t]=np.sum(new_population)\n",
    "            P_matrix=np.hstack((P_matrix,new_population))\n",
    "    print('total population in each year:',sum_population)\n",
    "    print('population distribution by age in each year:',\n",
    "          P_matrix)\n",
    "    df = pd.DataFrame({\n",
    "        'Year': np.arange(1,N+1),\n",
    "        'Population': sum_population})\n",
    "    plot=sns.lineplot(data=df,x='Year',y='Population')\n",
    "    return plot\n",
    "##P_1 is the initial 16 by 1 matrix represents the number of bobcats in each age group from 1 to 16, the sum of P_1 is the\n",
    "## total bobcats population in that year"
   ]
  },
  {
   "cell_type": "code",
   "execution_count": 26,
   "id": "7800ecca",
   "metadata": {},
   "outputs": [
    {
     "name": "stdout",
     "output_type": "stream",
     "text": [
      "total population in each year: [160.         228.695      223.927629   214.81384192 215.3556587\n",
      " 216.99075069 218.74759989 221.23081847 224.25823896 227.6344257 ]\n",
      "population distribution by age in each year: [[ 10.         125.895      113.176329   101.27957706 102.85244255\n",
      "  103.94786611 104.4258802  105.46711024 106.85294216 108.40514965]\n",
      " [ 10.           3.4         42.8043      38.47995186  34.4350562\n",
      "   34.96983047  35.34227448  35.50479927  35.85881748  36.33000034]\n",
      " [ 10.           7.1          2.414       30.391053    27.32076582\n",
      "   24.4488899   24.82857963  25.09301488  25.20840748  25.45976041]\n",
      " [ 10.           7.1          5.041        1.71394     21.57764763\n",
      "   19.39774373  17.35871183  17.62829154  17.81604056  17.89796931]\n",
      " [ 10.           7.1          5.041        3.57911      1.2168974\n",
      "   15.32012982  13.77239805  12.3246854   12.51608699  12.6493888 ]\n",
      " [ 10.           7.1          5.041        3.57911      2.5411681\n",
      "    0.86399715  10.87729217   9.77840262   8.75052663   8.88642176]\n",
      " [ 10.           7.1          5.041        3.57911      2.5411681\n",
      "    1.80422935   0.61343798   7.72287744   6.94266586   6.21287391]\n",
      " [ 10.           7.1          5.041        3.57911      2.5411681\n",
      "    1.80422935   1.28100284   0.43554097   5.48324298   4.92929276]\n",
      " [ 10.           7.1          5.041        3.57911      2.5411681\n",
      "    1.80422935   1.28100284   0.90951202   0.30923409   3.89310252]\n",
      " [ 10.           7.1          5.041        3.57911      2.5411681\n",
      "    1.80422935   1.28100284   0.90951202   0.64575353   0.2195562 ]\n",
      " [ 10.           7.1          5.041        3.57911      2.5411681\n",
      "    1.80422935   1.28100284   0.90951202   0.64575353   0.45848501]\n",
      " [ 10.           7.1          5.041        3.57911      2.5411681\n",
      "    1.80422935   1.28100284   0.90951202   0.64575353   0.45848501]\n",
      " [ 10.           7.1          5.041        3.57911      2.5411681\n",
      "    1.80422935   1.28100284   0.90951202   0.64575353   0.45848501]\n",
      " [ 10.           7.1          5.041        3.57911      2.5411681\n",
      "    1.80422935   1.28100284   0.90951202   0.64575353   0.45848501]\n",
      " [ 10.           7.1          5.041        3.57911      2.5411681\n",
      "    1.80422935   1.28100284   0.90951202   0.64575353   0.45848501]\n",
      " [ 10.           7.1          5.041        3.57911      2.5411681\n",
      "    1.80422935   1.28100284   0.90951202   0.64575353   0.45848501]]\n"
     ]
    },
    {
     "data": {
      "text/plain": [
       "<AxesSubplot:xlabel='Year', ylabel='Population'>"
      ]
     },
     "execution_count": 26,
     "metadata": {},
     "output_type": "execute_result"
    },
    {
     "data": {
      "image/png": "[encoded data removed]",
      "text/plain": [
       "<Figure size 432x288 with 1 Axes>"
      ]
     },
     "metadata": {
      "needs_background": "light"
     },
     "output_type": "display_data"
    }
   ],
   "source": [
    "P_1=np.array([[10]*16])   # here I used a 16 by 1 matrix with 10 in each entry as the initial condition, which means we have 10 bobcats\n",
    "                        ## in each age group and in total we have 160 bobcats initially.\n",
    "P_1=P_1.transpose()\n",
    "\n",
    "bobcat_P(10,P_1,survival_case=1,reproduction_case=1)"
   ]
  },
  {
   "cell_type": "code",
   "execution_count": null,
   "id": "0f76b581",
   "metadata": {},
   "outputs": [],
   "source": []
  }
 ],
 "metadata": {
  "kernelspec": {
   "display_name": "Python 3 (ipykernel)",
   "language": "python",
   "name": "python3"
  },
  "language_info": {
   "codemirror_mode": {
    "name": "ipython",
    "version": 3
   },
   "file_extension": ".py",
   "mimetype": "text/x-python",
   "name": "python",
   "nbconvert_exporter": "python",
   "pygments_lexer": "ipython3",
   "version": "3.9.7"
  }
 },
 "nbformat": 4,
 "nbformat_minor": 5
}
