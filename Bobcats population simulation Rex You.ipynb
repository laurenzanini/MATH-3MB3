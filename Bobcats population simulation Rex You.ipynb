{
 "cells": [
  {
   "cell_type": "code",
   "execution_count": 97,
   "id": "926d5e7b",
   "metadata": {},
   "outputs": [],
   "source": [
    "import numpy as np\n",
    "## the fuction is set to use the worse case situation, \n",
    "##if you want to use best case, put survival_case=1 or reproduction_case=1 for best case\n",
    "def bobcat_P(N,P_1,survival_case=None,reproduction_case=None):\n",
    "    W_S=np.zeros((16,16))\n",
    "    W_S_list=[0.32]+[0.68]*15\n",
    "    np.fill_diagonal(W_S, W_S_list)   #Worst case survival rate matrix\n",
    "    \n",
    "    B_S=np.zeros((16,16))\n",
    "    B_S_list=[0.34]+[0.71]*15\n",
    "    np.fill_diagonal(B_S, B_S_list)   #Best case survival rate matrix\n",
    "    \n",
    "    W_R=np.zeros((16,16))\n",
    "    W_R_list=[0.6]*2+[1.15]*14\n",
    "    np.fill_diagonal(W_R, W_R_list)   #Worst case reproduction rate matrix\n",
    "    \n",
    "    B_R=np.zeros((16,16))\n",
    "    B_R_list=[0.63]*2+[1.2]*14\n",
    "    np.fill_diagonal(B_R, B_R_list)   #Worst case reproduction rate matrix\n",
    "    \n",
    "    sum_population=np.zeros(N)\n",
    "    P_matrix=P_1\n",
    "    \n",
    "    \n",
    "    if survival_case==1:   ##set cases\n",
    "        S=B_S\n",
    "    else:\n",
    "        S=W_S\n",
    "    if reproduction_case==1:\n",
    "        R=B_R\n",
    "    else:\n",
    "        R=W_R\n",
    "        \n",
    "        \n",
    "    for t in np.arange(N):\n",
    "        if t==0:\n",
    "            sum_population[t]=np.sum(P_1)\n",
    "        else:\n",
    "            if t ==1:\n",
    "                survivaled_P=np.dot(S,P_1)\n",
    "            else:\n",
    "                survivaled_P=np.dot(S,new_population)\n",
    "            reproducted_P=np.dot(R,survivaled_P)\n",
    "            new_survivaled_P=survivaled_P\n",
    "            for i in np.arange(len(survivaled_P))[::-1]:\n",
    "                if i!=0:\n",
    "                    new_survivaled_P[i]=survivaled_P[i-1]\n",
    "                else:\n",
    "                    new_survivaled_P[i]=0       \n",
    "            new_survivaled_P[0]=np.sum(reproducted_P)\n",
    "            new_population=new_survivaled_P\n",
    "            sum_population[t]=np.sum(new_population)\n",
    "            P_matrix=np.hstack((P_matrix,new_population))\n",
    "    print('total population in each year:',sum_population)\n",
    "    print('population distribution by age in each year:',\n",
    "          P_matrix)        \n",
    "##P_1 is the initial 16 by 1 matrix represents the number of bobcats in each age group from 1 to 16, the sum of P_1 is the\n",
    "## total bobcats population in that year"
   ]
  },
  {
   "cell_type": "code",
   "execution_count": 100,
   "id": "7800ecca",
   "metadata": {},
   "outputs": [
    {
     "name": "stdout",
     "output_type": "stream",
     "text": [
      "total population in each year: [160.         213.88       197.16576    178.26342272 168.3050856 ]\n",
      "population distribution by age in each year: [[ 10.         115.48        97.92416     82.58772352  78.95567622]\n",
      " [ 10.           3.2         36.9536      31.3357312   26.42807153]\n",
      " [ 10.           6.8          2.176       25.128448    21.30829722]\n",
      " [ 10.           6.8          4.624        1.47968     17.08734464]\n",
      " [ 10.           6.8          4.624        3.14432      1.0061824 ]\n",
      " [ 10.           6.8          4.624        3.14432      2.1381376 ]\n",
      " [ 10.           6.8          4.624        3.14432      2.1381376 ]\n",
      " [ 10.           6.8          4.624        3.14432      2.1381376 ]\n",
      " [ 10.           6.8          4.624        3.14432      2.1381376 ]\n",
      " [ 10.           6.8          4.624        3.14432      2.1381376 ]\n",
      " [ 10.           6.8          4.624        3.14432      2.1381376 ]\n",
      " [ 10.           6.8          4.624        3.14432      2.1381376 ]\n",
      " [ 10.           6.8          4.624        3.14432      2.1381376 ]\n",
      " [ 10.           6.8          4.624        3.14432      2.1381376 ]\n",
      " [ 10.           6.8          4.624        3.14432      2.1381376 ]\n",
      " [ 10.           6.8          4.624        3.14432      2.1381376 ]]\n"
     ]
    }
   ],
   "source": [
    "P_1=np.array([[10]*16])   # here I used a 16 by 1 matrix with 10 in each entry as the initial condition, which means we have 10 bobcats\n",
    "                        ## in each age group and in total we have 160 bobcats initially.\n",
    "P_1=P_1.transpose()\n",
    "\n",
    "bobcat_P(5,P_1)"
   ]
  },
  {
   "cell_type": "code",
   "execution_count": null,
   "id": "8b7110e2",
   "metadata": {},
   "outputs": [],
   "source": []
  }
 ],
 "metadata": {
  "kernelspec": {
   "display_name": "Python 3 (ipykernel)",
   "language": "python",
   "name": "python3"
  },
  "language_info": {
   "codemirror_mode": {
    "name": "ipython",
    "version": 3
   },
   "file_extension": ".py",
   "mimetype": "text/x-python",
   "name": "python",
   "nbconvert_exporter": "python",
   "pygments_lexer": "ipython3",
   "version": "3.9.7"
  }
 },
 "nbformat": 4,
 "nbformat_minor": 5
}
