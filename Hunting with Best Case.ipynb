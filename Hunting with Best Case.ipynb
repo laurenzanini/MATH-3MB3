{
 "cells": [
  {
   "cell_type": "code",
   "execution_count": 1,
   "id": "015c5b44",
   "metadata": {},
   "outputs": [],
   "source": [
    "import numpy as np\n",
    "import pandas as pd\n",
    "import seaborn as sns\n",
    "import matplotlib.pyplot as plt\n",
    "import numpy.linalg as linalg"
   ]
  },
  {
   "cell_type": "code",
   "execution_count": 2,
   "id": "8f8b0692",
   "metadata": {},
   "outputs": [],
   "source": [
    "M_best = np.array([\n",
    "    [0.63, 0.63, 1.20, 1.20, 1.20, 1.20, 1.20, 1.20, 1.20, 1.20, 1.20, 1.20, 1.20, 1.20, 1.20, 1.20],\n",
    "    [0.34, 0.00, 0.00, 0.00, 0.00, 0.00, 0.00, 0.00, 0.00, 0.00, 0.00, 0.00, 0.00, 0.00, 0.00, 0.00],\n",
    "    [0.00, 0.71, 0.00, 0.00, 0.00, 0.00, 0.00, 0.00, 0.00, 0.00, 0.00, 0.00, 0.00, 0.00, 0.00, 0.00],\n",
    "    [0.00, 0.00, 0.71, 0.00, 0.00, 0.00, 0.00, 0.00, 0.00, 0.00, 0.00, 0.00, 0.00, 0.00, 0.00, 0.00],\n",
    "    [0.00, 0.00, 0.00, 0.71, 0.00, 0.00, 0.00, 0.00, 0.00, 0.00, 0.00, 0.00, 0.00, 0.00, 0.00, 0.00],\n",
    "    [0.00, 0.00, 0.00, 0.00, 0.71, 0.00, 0.00, 0.00, 0.00, 0.00, 0.00, 0.00, 0.00, 0.00, 0.00, 0.00],\n",
    "    [0.00, 0.00, 0.00, 0.00, 0.00, 0.71, 0.00, 0.00, 0.00, 0.00, 0.00, 0.00, 0.00, 0.00, 0.00, 0.00],\n",
    "    [0.00, 0.00, 0.00, 0.00, 0.00, 0.00, 0.71, 0.00, 0.00, 0.00, 0.00, 0.00, 0.00, 0.00, 0.00, 0.00],\n",
    "    [0.00, 0.00, 0.00, 0.00, 0.00, 0.00, 0.00, 0.71, 0.00, 0.00, 0.00, 0.00, 0.00, 0.00, 0.00, 0.00],\n",
    "    [0.00, 0.00, 0.00, 0.00, 0.00, 0.00, 0.00, 0.00, 0.71, 0.00, 0.00, 0.00, 0.00, 0.00, 0.00, 0.00],\n",
    "    [0.00, 0.00, 0.00, 0.00, 0.00, 0.00, 0.00, 0.00, 0.00, 0.71, 0.00, 0.00, 0.00, 0.00, 0.00, 0.00],\n",
    "    [0.00, 0.00, 0.00, 0.00, 0.00, 0.00, 0.00, 0.00, 0.00, 0.00, 0.71, 0.00, 0.00, 0.00, 0.00, 0.00],\n",
    "    [0.00, 0.00, 0.00, 0.00, 0.00, 0.00, 0.00, 0.00, 0.00, 0.00, 0.00, 0.71, 0.00, 0.00, 0.00, 0.00],\n",
    "    [0.00, 0.00, 0.00, 0.00, 0.00, 0.00, 0.00, 0.00, 0.00, 0.00, 0.00, 0.00, 0.71, 0.00, 0.00, 0.00],\n",
    "    [0.00, 0.00, 0.00, 0.00, 0.00, 0.00, 0.00, 0.00, 0.00, 0.00, 0.00, 0.00, 0.00, 0.71, 0.00, 0.00],\n",
    "    [0.00, 0.00, 0.00, 0.00, 0.00, 0.00, 0.00, 0.00, 0.00, 0.00, 0.00, 0.00, 0.00, 0.00, 0.71, 0.00]])"
   ]
  },
  {
   "cell_type": "code",
   "execution_count": 3,
   "id": "766895c2",
   "metadata": {},
   "outputs": [],
   "source": [
    "init_vals = np.array([[10,10,10,10,10,10,10,10,10,10,10,10,10,10,10,10]])\n",
    "hunt = np.array([[35,10,2,2,2,2,1,1,0,0,0,0,0,0,0,0]])\n",
    "\n",
    "def hunt_best_constant(T = 50,init_vals= init_vals):\n",
    "    \n",
    "    i = 0\n",
    "    total_p = np.zeros(T+1)\n",
    "    tvec = np.arange(T+1)\n",
    "    while i <=T:\n",
    "        \n",
    "        if i == 0:\n",
    "            x_n = M_best.dot(init_vals.transpose())\n",
    "            x_n = x_n - hunt.transpose()\n",
    "            total_p[i] = sum(x_n)\n",
    "        else:\n",
    "            x_n = M_best.dot(x_n)\n",
    "            x_n = x_n - hunt.transpose()\n",
    "\n",
    "            total_p[i] = sum(x_n)\n",
    "        i = i + 1\n",
    "        \n",
    "    return total_p\n",
    "total_p = hunt_best_constant()"
   ]
  },
  {
   "cell_type": "code",
   "execution_count": 4,
   "id": "b5d36283",
   "metadata": {},
   "outputs": [
    {
     "data": {
      "text/plain": [
       "Text(0, 0.5, 'Population')"
      ]
     },
     "execution_count": 4,
     "metadata": {},
     "output_type": "execute_result"
    },
    {
     "data": {
      "image/png": "[encoded data removed]",
      "text/plain": [
       "<Figure size 432x288 with 1 Axes>"
      ]
     },
     "metadata": {
      "needs_background": "light"
     },
     "output_type": "display_data"
    }
   ],
   "source": [
    "number = np.arange(51)\n",
    "total_p = hunt_best_constant()\n",
    "plt.scatter(number, total_p,s = 5)\n",
    "plt.title('Hunting at Constant Rate under Best Case')\n",
    "plt.xlabel('Years')\n",
    "plt.ylabel('Population')"
   ]
  },
  {
   "cell_type": "code",
   "execution_count": 5,
   "id": "a78993da",
   "metadata": {},
   "outputs": [
    {
     "name": "stdout",
     "output_type": "stream",
     "text": [
      "[206.56       206.18827    196.24969398 191.89773535 190.53939703\n",
      " 190.20494324 190.51681072 191.29456412 192.39255028 193.73469174\n",
      " 195.11526307 196.46621805 197.80760888 199.16227242 200.53540927\n",
      " 201.9372822  203.26896009 204.57707461 205.90267042 207.24998145\n",
      " 208.61134599 209.98325451 211.36507013 212.75649875 214.15725573\n",
      " 215.56716161 216.98610028 218.41418221 219.85158393 221.29842142\n",
      " 222.75476021 224.22065476 225.69615459 227.18137119 228.67638932\n",
      " 230.18126214 231.69604196 233.22079009 234.7555718  236.30045303\n",
      " 237.8555001  239.42077995 240.99636011 242.58230864 244.17869396\n",
      " 245.78558481 247.4030503  249.03116002 250.66998403 252.31959284\n",
      " 253.98005742]\n"
     ]
    }
   ],
   "source": [
    "D = np.zeros((16,16))\n",
    "prop = np.array([[0.4,0.1,0,0,0,0,0,0,0,0,0.1,0.1,0.1,0.1,0.1,0.1]])\n",
    "np.fill_diagonal(D,prop)\n",
    "\n",
    "def hunt_best_prop(T = 50,init_vals= init_vals):\n",
    "    \n",
    "    i = 0\n",
    "    total_p = np.zeros(T+1)\n",
    "    tvec = np.arange(T+1)\n",
    "    while i <=T:\n",
    "        \n",
    "        if i == 0:\n",
    "            x_n = M_best.dot(init_vals.transpose())\n",
    "            x_n = x_n - D.dot(x_n)\n",
    "            total_p[i] = sum(x_n)\n",
    "        else:\n",
    "            x_n = M_best.dot(x_n)\n",
    "            x_n = x_n - D.dot(x_n)\n",
    "\n",
    "            total_p[i] = sum(x_n)\n",
    "        i = i + 1\n",
    "        \n",
    "    return total_p\n",
    "\n",
    "total_p = hunt_best_prop()\n",
    "print(total_p)"
   ]
  },
  {
   "cell_type": "code",
   "execution_count": 6,
   "id": "67dc05c6",
   "metadata": {},
   "outputs": [
    {
     "data": {
      "text/plain": [
       "Text(0, 0.5, 'Population')"
      ]
     },
     "execution_count": 6,
     "metadata": {},
     "output_type": "execute_result"
    },
    {
     "data": {
      "image/png": "[encoded data removed]",
      "text/plain": [
       "<Figure size 432x288 with 1 Axes>"
      ]
     },
     "metadata": {
      "needs_background": "light"
     },
     "output_type": "display_data"
    }
   ],
   "source": [
    "number = np.arange(51)\n",
    "total_p = hunt_best_prop()\n",
    "plt.scatter(number, total_p,s = 5)\n",
    "plt.title('Hunting at Proportion Rate under Best Case')\n",
    "plt.xlabel('Years')\n",
    "plt.ylabel('Population')"
   ]
  }
 ],
 "metadata": {
  "kernelspec": {
   "display_name": "Python 3 (ipykernel)",
   "language": "python",
   "name": "python3"
  },
  "language_info": {
   "codemirror_mode": {
    "name": "ipython",
    "version": 3
   },
   "file_extension": ".py",
   "mimetype": "text/x-python",
   "name": "python",
   "nbconvert_exporter": "python",
   "pygments_lexer": "ipython3",
   "version": "3.9.7"
  }
 },
 "nbformat": 4,
 "nbformat_minor": 5
}
