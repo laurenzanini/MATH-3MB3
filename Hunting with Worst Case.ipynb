{
 "cells": [
  {
   "cell_type": "code",
   "execution_count": 1,
   "id": "7e47f236",
   "metadata": {},
   "outputs": [],
   "source": [
    "import numpy as np\n",
    "import pandas as pd\n",
    "import seaborn as sns\n",
    "import matplotlib.pyplot as plt\n",
    "import numpy.linalg as linalg"
   ]
  },
  {
   "cell_type": "code",
   "execution_count": 2,
   "id": "54203da3",
   "metadata": {},
   "outputs": [],
   "source": [
    "M_worst = np.array([\n",
    "    [0.60, 0.60, 1.15, 1.15, 1.15, 1.15, 1.15, 1.15, 1.15, 1.15, 1.15, 1.15, 1.15, 1.15, 1.15, 1.15],\n",
    "    [0.32, 0.00, 0.00, 0.00, 0.00, 0.00, 0.00, 0.00, 0.00, 0.00, 0.00, 0.00, 0.00, 0.00, 0.00, 0.00],\n",
    "    [0.00, 0.68, 0.00, 0.00, 0.00, 0.00, 0.00, 0.00, 0.00, 0.00, 0.00, 0.00, 0.00, 0.00, 0.00, 0.00],\n",
    "    [0.00, 0.00, 0.68, 0.00, 0.00, 0.00, 0.00, 0.00, 0.00, 0.00, 0.00, 0.00, 0.00, 0.00, 0.00, 0.00],\n",
    "    [0.00, 0.00, 0.00, 0.68, 0.00, 0.00, 0.00, 0.00, 0.00, 0.00, 0.00, 0.00, 0.00, 0.00, 0.00, 0.00],\n",
    "    [0.00, 0.00, 0.00, 0.00, 0.68, 0.00, 0.00, 0.00, 0.00, 0.00, 0.00, 0.00, 0.00, 0.00, 0.00, 0.00],\n",
    "    [0.00, 0.00, 0.00, 0.00, 0.00, 0.68, 0.00, 0.00, 0.00, 0.00, 0.00, 0.00, 0.00, 0.00, 0.00, 0.00],\n",
    "    [0.00, 0.00, 0.00, 0.00, 0.00, 0.00, 0.68, 0.00, 0.00, 0.00, 0.00, 0.00, 0.00, 0.00, 0.00, 0.00],\n",
    "    [0.00, 0.00, 0.00, 0.00, 0.00, 0.00, 0.00, 0.68, 0.00, 0.00, 0.00, 0.00, 0.00, 0.00, 0.00, 0.00],\n",
    "    [0.00, 0.00, 0.00, 0.00, 0.00, 0.00, 0.00, 0.00, 0.68, 0.00, 0.00, 0.00, 0.00, 0.00, 0.00, 0.00],\n",
    "    [0.00, 0.00, 0.00, 0.00, 0.00, 0.00, 0.00, 0.00, 0.00, 0.68, 0.00, 0.00, 0.00, 0.00, 0.00, 0.00],\n",
    "    [0.00, 0.00, 0.00, 0.00, 0.00, 0.00, 0.00, 0.00, 0.00, 0.00, 0.68, 0.00, 0.00, 0.00, 0.00, 0.00],\n",
    "    [0.00, 0.00, 0.00, 0.00, 0.00, 0.00, 0.00, 0.00, 0.00, 0.00, 0.00, 0.68, 0.00, 0.00, 0.00, 0.00],\n",
    "    [0.00, 0.00, 0.00, 0.00, 0.00, 0.00, 0.00, 0.00, 0.00, 0.00, 0.00, 0.00, 0.68, 0.00, 0.00, 0.00],\n",
    "    [0.00, 0.00, 0.00, 0.00, 0.00, 0.00, 0.00, 0.00, 0.00, 0.00, 0.00, 0.00, 0.00, 0.68, 0.00, 0.00],\n",
    "    [0.00, 0.00, 0.00, 0.00, 0.00, 0.00, 0.00, 0.00, 0.00, 0.00, 0.00, 0.00, 0.00, 0.00, 0.68, 0.00]])"
   ]
  },
  {
   "cell_type": "code",
   "execution_count": 3,
   "id": "ce249eec",
   "metadata": {},
   "outputs": [],
   "source": [
    "init_vals = np.array([[10,10,10,10,10,10,10,10,10,10,10,10,10,10,10,10]])\n",
    "hunt = np.array([[26,5,2,2,2,2,1,1,0,0,0,0,0,0,0,0]])\n",
    "\n",
    "def hunt_worst_constant(T = 50,init_vals= init_vals):\n",
    "    \n",
    "    i = 0\n",
    "    total_p = np.zeros(T+1)\n",
    "    tvec = np.arange(T+1)\n",
    "    while i <=T:\n",
    "        \n",
    "        if i == 0:\n",
    "            x_n = M_worst.dot(init_vals.transpose())\n",
    "            x_n = x_n - hunt.transpose()\n",
    "            total_p[i] = sum(x_n)\n",
    "        else:\n",
    "            x_n = M_worst.dot(x_n)\n",
    "            x_n = x_n - hunt.transpose()\n",
    "\n",
    "            total_p[i] = sum(x_n)\n",
    "        i = i + 1\n",
    "        \n",
    "    return total_p\n",
    "total_p = hunt_worst_constant()"
   ]
  },
  {
   "cell_type": "code",
   "execution_count": 4,
   "id": "40f19c0b",
   "metadata": {},
   "outputs": [
    {
     "data": {
      "text/plain": [
       "Text(0, 0.5, 'Population')"
      ]
     },
     "execution_count": 4,
     "metadata": {},
     "output_type": "execute_result"
    },
    {
     "data": {
      "image/png": "[encoded data removed]",
      "text/plain": [
       "<Figure size 432x288 with 1 Axes>"
      ]
     },
     "metadata": {
      "needs_background": "light"
     },
     "output_type": "display_data"
    }
   ],
   "source": [
    "number = np.arange(51)\n",
    "total_p = hunt_worst_constant()\n",
    "plt.scatter(number, total_p,s = 5)\n",
    "plt.title('Hunting at Constant Rate under Worst Case')\n",
    "plt.xlabel('Years')\n",
    "plt.ylabel('Population')"
   ]
  },
  {
   "cell_type": "code",
   "execution_count": 5,
   "id": "01b8beb1",
   "metadata": {},
   "outputs": [
    {
     "name": "stdout",
     "output_type": "stream",
     "text": [
      "[215.1        217.5152     207.96559792 204.21668883 203.68966563\n",
      " 204.14747271 205.16658352 206.59818108 208.31034233 210.22670243\n",
      " 212.18883045 214.13823028 216.08848942 218.05814705 220.05176017\n",
      " 222.07431147 224.07130361 226.06509312 228.08051145 230.12146947\n",
      " 232.18374816 234.26530079 236.36590833 238.485603   240.62439684\n",
      " 242.78234653 244.95954662 247.15618773 249.37249353 251.60866514\n",
      " 253.86488278 256.1413228  258.4381621  260.7555981  263.09382309\n",
      " 265.45302056 267.83337454 270.23507341 272.65830851 275.10327295\n",
      " 277.57016156 280.05917094 282.57049949 285.10434741 287.66091669\n",
      " 290.24041107 292.84303614 295.4689993  298.11850982 300.79177888\n",
      " 303.4890195 ]\n"
     ]
    }
   ],
   "source": [
    "D = np.zeros((16,16))\n",
    "prop = np.array([[0.30,0.1,0,0,0,0,0,0,0,0,0.1,0.1,0.1,0.1,0.1,0.1]])\n",
    "np.fill_diagonal(D,prop)\n",
    "\n",
    "def hunt_worst_prop(T = 50,init_vals= init_vals):\n",
    "    \n",
    "    i = 0\n",
    "    total_p = np.zeros(T+1)\n",
    "    tvec = np.arange(T+1)\n",
    "    while i <=T:\n",
    "        \n",
    "        if i == 0:\n",
    "            x_n = M_worst.dot(init_vals.transpose())\n",
    "            x_n = x_n - D.dot(x_n)\n",
    "            total_p[i] = sum(x_n)\n",
    "        else:\n",
    "            x_n = M_worst.dot(x_n)\n",
    "            x_n = x_n - D.dot(x_n)\n",
    "\n",
    "            total_p[i] = sum(x_n)\n",
    "        i = i + 1\n",
    "        \n",
    "    return total_p\n",
    "\n",
    "total_p = hunt_worst_prop()\n",
    "print(total_p)"
   ]
  },
  {
   "cell_type": "code",
   "execution_count": 6,
   "id": "4dfffb1a",
   "metadata": {},
   "outputs": [
    {
     "data": {
      "text/plain": [
       "Text(0, 0.5, 'Population')"
      ]
     },
     "execution_count": 6,
     "metadata": {},
     "output_type": "execute_result"
    },
    {
     "data": {
      "image/png": "[encoded data removed]",
      "text/plain": [
       "<Figure size 432x288 with 1 Axes>"
      ]
     },
     "metadata": {
      "needs_background": "light"
     },
     "output_type": "display_data"
    }
   ],
   "source": [
    "number = np.arange(51)\n",
    "total_p = hunt_worst_prop()\n",
    "plt.scatter(number, total_p,s = 5)\n",
    "plt.title('Hunting at Proportion Rate under Worst Case')\n",
    "plt.xlabel('Years')\n",
    "plt.ylabel('Population')"
   ]
  }
 ],
 "metadata": {
  "kernelspec": {
   "display_name": "Python 3 (ipykernel)",
   "language": "python",
   "name": "python3"
  },
  "language_info": {
   "codemirror_mode": {
    "name": "ipython",
    "version": 3
   },
   "file_extension": ".py",
   "mimetype": "text/x-python",
   "name": "python",
   "nbconvert_exporter": "python",
   "pygments_lexer": "ipython3",
   "version": "3.9.7"
  }
 },
 "nbformat": 4,
 "nbformat_minor": 5
}
