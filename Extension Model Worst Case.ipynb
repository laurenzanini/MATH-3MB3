{
 "cells": [
  {
   "cell_type": "code",
   "execution_count": 1,
   "id": "6c63a448",
   "metadata": {},
   "outputs": [],
   "source": [
    "import numpy as np\n",
    "import pandas as pd\n",
    "import seaborn as sns\n",
    "import matplotlib.pyplot as plt\n",
    "import numpy.linalg as linalg"
   ]
  },
  {
   "cell_type": "code",
   "execution_count": 2,
   "id": "075c5d28",
   "metadata": {},
   "outputs": [],
   "source": [
    "M_wr = np.array([\n",
    "    [0.60, 0.60, 1.15, 1.15, 1.15, 1.15, 1.15, 1.15, 1.15, 1.15, 1.15, 1.15, 1.15, 1.15, 1.15, 1.15],\n",
    "    [0.00, 1.00, 0.00, 0.00, 0.00, 0.00, 0.00, 0.00, 0.00, 0.00, 0.00, 0.00, 0.00, 0.00, 0.00, 0.00],\n",
    "    [0.00, 0.00, 1.00, 0.00, 0.00, 0.00, 0.00, 0.00, 0.00, 0.00, 0.00, 0.00, 0.00, 0.00, 0.00, 0.00],\n",
    "    [0.00, 0.00, 0.00, 1.00, 0.00, 0.00, 0.00, 0.00, 0.00, 0.00, 0.00, 0.00, 0.00, 0.00, 0.00, 0.00],\n",
    "    [0.00, 0.00, 0.00, 0.00, 1.00, 0.00, 0.00, 0.00, 0.00, 0.00, 0.00, 0.00, 0.00, 0.00, 0.00, 0.00],\n",
    "    [0.00, 0.00, 0.00, 0.00, 0.00, 1.00, 0.00, 0.00, 0.00, 0.00, 0.00, 0.00, 0.00, 0.00, 0.00, 0.00],\n",
    "    [0.00, 0.00, 0.00, 0.00, 0.00, 0.00, 1.00, 0.00, 0.00, 0.00, 0.00, 0.00, 0.00, 0.00, 0.00, 0.00],\n",
    "    [0.00, 0.00, 0.00, 0.00, 0.00, 0.00, 0.00, 1.00, 0.00, 0.00, 0.00, 0.00, 0.00, 0.00, 0.00, 0.00],\n",
    "    [0.00, 0.00, 0.00, 0.00, 0.00, 0.00, 0.00, 0.00, 1.00, 0.00, 0.00, 0.00, 0.00, 0.00, 0.00, 0.00],\n",
    "    [0.00, 0.00, 0.00, 0.00, 0.00, 0.00, 0.00, 0.00, 0.00, 1.00, 0.00, 0.00, 0.00, 0.00, 0.00, 0.00],\n",
    "    [0.00, 0.00, 0.00, 0.00, 0.00, 0.00, 0.00, 0.00, 0.00, 0.00, 1.00, 0.00, 0.00, 0.00, 0.00, 0.00],\n",
    "    [0.00, 0.00, 0.00, 0.00, 0.00, 0.00, 0.00, 0.00, 0.00, 0.00, 0.00, 1.00, 0.00, 0.00, 0.00, 0.00],\n",
    "    [0.00, 0.00, 0.00, 0.00, 0.00, 0.00, 0.00, 0.00, 0.00, 0.00, 0.00, 0.00, 1.00, 0.00, 0.00, 0.00],\n",
    "    [0.00, 0.00, 0.00, 0.00, 0.00, 0.00, 0.00, 0.00, 0.00, 0.00, 0.00, 0.00, 0.00, 1.00, 0.00, 0.00],\n",
    "    [0.00, 0.00, 0.00, 0.00, 0.00, 0.00, 0.00, 0.00, 0.00, 0.00, 0.00, 0.00, 0.00, 0.00, 1.00, 0.00],\n",
    "    [0.00, 0.00, 0.00, 0.00, 0.00, 0.00, 0.00, 0.00, 0.00, 0.00, 0.00, 0.00, 0.00, 0.00,0.00, 1.00]])"
   ]
  },
  {
   "cell_type": "code",
   "execution_count": 3,
   "id": "90d4d694",
   "metadata": {},
   "outputs": [],
   "source": [
    "M_ws = np.array([\n",
    "    [0.00, 0.00, 0.00, 0.00, 0.00, 0.00, 0.00, 0.00, 0.00, 0.00, 0.00, 0.00, 0.00, 0.00, 0.00, 0.00],\n",
    "    [0.32, 0.00, 0.00, 0.00, 0.00, 0.00, 0.00, 0.00, 0.00, 0.00, 0.00, 0.00, 0.00, 0.00, 0.00, 0.00],\n",
    "    [0.00, 0.68, 0.00, 0.00, 0.00, 0.00, 0.00, 0.00, 0.00, 0.00, 0.00, 0.00, 0.00, 0.00, 0.00, 0.00],\n",
    "    [0.00, 0.00, 0.68, 0.00, 0.00, 0.00, 0.00, 0.00, 0.00, 0.00, 0.00, 0.00, 0.00, 0.00, 0.00, 0.00],\n",
    "    [0.00, 0.00, 0.00, 0.68, 0.00, 0.00, 0.00, 0.00, 0.00, 0.00, 0.00, 0.00, 0.00, 0.00, 0.00, 0.00],\n",
    "    [0.00, 0.00, 0.00, 0.00, 0.68, 0.00, 0.00, 0.00, 0.00, 0.00, 0.00, 0.00, 0.00, 0.00, 0.00, 0.00],\n",
    "    [0.00, 0.00, 0.00, 0.00, 0.00, 0.68, 0.00, 0.00, 0.00, 0.00, 0.00, 0.00, 0.00, 0.00, 0.00, 0.00],\n",
    "    [0.00, 0.00, 0.00, 0.00, 0.00, 0.00, 0.68, 0.00, 0.00, 0.00, 0.00, 0.00, 0.00, 0.00, 0.00, 0.00],\n",
    "    [0.00, 0.00, 0.00, 0.00, 0.00, 0.00, 0.00, 0.68, 0.00, 0.00, 0.00, 0.00, 0.00, 0.00, 0.00, 0.00],\n",
    "    [0.00, 0.00, 0.00, 0.00, 0.00, 0.00, 0.00, 0.00, 0.68, 0.00, 0.00, 0.00, 0.00, 0.00, 0.00, 0.00],\n",
    "    [0.00, 0.00, 0.00, 0.00, 0.00, 0.00, 0.00, 0.00, 0.00, 0.68, 0.00, 0.00, 0.00, 0.00, 0.00, 0.00],\n",
    "    [0.00, 0.00, 0.00, 0.00, 0.00, 0.00, 0.00, 0.00, 0.00, 0.00, 0.68, 0.00, 0.00, 0.00, 0.00, 0.00],\n",
    "    [0.00, 0.00, 0.00, 0.00, 0.00, 0.00, 0.00, 0.00, 0.00, 0.00, 0.00, 0.68, 0.00, 0.00, 0.00, 0.00],\n",
    "    [0.00, 0.00, 0.00, 0.00, 0.00, 0.00, 0.00, 0.00, 0.00, 0.00, 0.00, 0.00, 0.68, 0.00, 0.00, 0.00],\n",
    "    [0.00, 0.00, 0.00, 0.00, 0.00, 0.00, 0.00, 0.00, 0.00, 0.00, 0.00, 0.00, 0.00, 0.68, 0.00, 0.00],\n",
    "    [0.00, 0.00, 0.00, 0.00, 0.00, 0.00, 0.00, 0.00, 0.00, 0.00, 0.00, 0.00, 0.00, 0.00, 0.68, 0.00]])"
   ]
  },
  {
   "cell_type": "code",
   "execution_count": 66,
   "id": "08f82e51",
   "metadata": {},
   "outputs": [
    {
     "name": "stdout",
     "output_type": "stream",
     "text": [
      "[[73.64980434]\n",
      " [23.77270539]\n",
      " [16.30650145]\n",
      " [11.18480174]\n",
      " [ 7.67523644]\n",
      " [ 5.25873178]\n",
      " [ 3.60409393]\n",
      " [ 2.47052371]\n",
      " [ 1.69392994]\n",
      " [ 1.16189595]\n",
      " [ 0.79740659]\n",
      " [ 0.54769982]\n",
      " [ 0.37662903]\n",
      " [ 0.25943087]\n",
      " [ 0.17913915]\n",
      " [ 0.12413709]]\n"
     ]
    }
   ],
   "source": [
    "init_vals = np.array([[10,10,10,10,10,10,10,10,10,10,10,10,10,10,10,10]])\n",
    "\n",
    "def population_w(T = 5,init_vals= init_vals):\n",
    "    \n",
    "    count = 1\n",
    "    while count <=T:\n",
    "        \n",
    "        if count == 1:\n",
    "            x_n = M_ws.dot(init_vals.transpose())\n",
    "            x_n = M_wr.dot(x_n)\n",
    "        else:\n",
    "            x_n = M_ws.dot(x_n)\n",
    "            x_n = M_wr.dot(x_n) \n",
    "        \n",
    "        count = count + 1\n",
    " \n",
    "    return x_n\n",
    "\n",
    "x_n = population_b()\n",
    "\n",
    "\n",
    "print(x_n)"
   ]
  },
  {
   "cell_type": "code",
   "execution_count": 67,
   "id": "622ae825",
   "metadata": {},
   "outputs": [
    {
     "data": {
      "image/png": "[encoded data removed]",
      "text/plain": [
       "<Figure size 432x288 with 1 Axes>"
      ]
     },
     "metadata": {
      "needs_background": "light"
     },
     "output_type": "display_data"
    }
   ],
   "source": [
    "number = np.arange(17)\n",
    "number = number[1:]\n",
    "x_n = x_n.flatten()\n",
    "\n",
    "case1 = population_w()\n",
    "case2 = population_w(T = 10)\n",
    "case3 = population_w(T = 15)\n",
    "\n",
    "plt.scatter(number, case1,c = 'blue',label = 'After 5 Years',s = 5)\n",
    "plt.scatter(number, case2,c = 'red',label = 'After 10 Years',s = 5)\n",
    "plt.scatter(number, case3,c = 'green',label = 'After 15 Years',s = 5)\n",
    "plt.title('Worst Case')\n",
    "plt.xlabel('Ages')\n",
    "plt.ylabel('Population')\n",
    "plt.legend(loc=\"upper right\");\n",
    "    \n",
    "plt.show()"
   ]
  },
  {
   "cell_type": "code",
   "execution_count": 62,
   "id": "b6d4058c",
   "metadata": {},
   "outputs": [
    {
     "name": "stdout",
     "output_type": "stream",
     "text": [
      "[160.         190.956      184.048384   178.19340877 173.90929365\n",
      " 170.59354804 167.95158879 165.76919569 163.9023514  162.25290106\n",
      " 160.75410258 159.36054747 158.04133751 156.77544123 155.54853675\n",
      " 154.37465379 152.99345285 151.66986881 150.35821426 149.06266722\n",
      " 147.78081692 146.51174267 145.25468626 144.00911866 142.77465069\n",
      " 141.55099071 140.33791329 139.13523833 137.94281675 136.76052079\n",
      " 135.58823738 134.42583679 133.27348681 132.13101855 130.99835654\n",
      " 129.87540998 128.76209344 127.65832255 126.5640144  125.4790872\n",
      " 124.40346012 123.33705324 122.27978745 121.23158438 120.19236643\n",
      " 119.16205666 118.14057885 117.12785746 116.12381731 115.12838398\n",
      " 114.1414837  113.1630433  112.19299026 111.23125268 110.27775928\n",
      " 109.33243939 108.39522294 107.46604047 106.54482311 105.63150258\n",
      " 104.7260112  103.82828184 102.93824798 102.05584363 101.18100341\n",
      " 100.31366247  99.45375653  98.60122184  97.75599523  96.91801405\n",
      "  96.08721618  95.26354006  94.44692463  93.63730937  92.83463427\n",
      "  92.03883984  91.2498671   90.46765756  89.69215326  88.92329672\n",
      "  88.16103094  87.40529944  86.6560462   85.91321569  85.17675285\n",
      "  84.44660309  83.72271231  83.00502683  82.29349349  81.58805953\n",
      "  80.88867266  80.19528107  79.50783334  78.82627854  78.15056614\n",
      "  77.48064606  76.81646866  76.15798469  75.50514537  74.85790229\n",
      "  74.21620749]\n"
     ]
    }
   ],
   "source": [
    "def total_worst(T = 100,init_vals= init_vals):\n",
    "    \n",
    "    i = 0\n",
    "    total_p = np.zeros(T+1)\n",
    "    tvec = np.arange(T+1)\n",
    "    init_vals = init_vals.flatten()\n",
    "    while i <=T:\n",
    "        \n",
    "        if i == 0:\n",
    "            x_n = M_ws.dot(init_vals.transpose())\n",
    "            x_n = M_wr.dot(x_n)\n",
    "            total_p[i] = sum(init_vals)\n",
    "        else:\n",
    "            x_n = M_ws.dot(x_n)\n",
    "            x_n = M_wr.dot(x_n) \n",
    "            total_p[i] = sum(x_n)\n",
    "        i = i + 1\n",
    "        \n",
    "    return total_p\n",
    "\n",
    "total_p = total_worst()\n",
    "print(total_p)"
   ]
  },
  {
   "cell_type": "code",
   "execution_count": 68,
   "id": "9c910f36",
   "metadata": {},
   "outputs": [
    {
     "data": {
      "text/plain": [
       "<matplotlib.collections.PathCollection at 0x7f2408b16850>"
      ]
     },
     "execution_count": 68,
     "metadata": {},
     "output_type": "execute_result"
    },
    {
     "data": {
      "image/png": "[encoded data removed]",
      "text/plain": [
       "<Figure size 432x288 with 1 Axes>"
      ]
     },
     "metadata": {
      "needs_background": "light"
     },
     "output_type": "display_data"
    }
   ],
   "source": [
    "number = np.arange(101)\n",
    "total_p = total_worst()\n",
    "plt.scatter(number, total_p,label = 'Total Population After 100 Years in Worst Case',s = 5)"
   ]
  },
  {
   "cell_type": "code",
   "execution_count": null,
   "id": "0deb4f94",
   "metadata": {},
   "outputs": [],
   "source": []
  }
 ],
 "metadata": {
  "kernelspec": {
   "display_name": "Python 3 (ipykernel)",
   "language": "python",
   "name": "python3"
  },
  "language_info": {
   "codemirror_mode": {
    "name": "ipython",
    "version": 3
   },
   "file_extension": ".py",
   "mimetype": "text/x-python",
   "name": "python",
   "nbconvert_exporter": "python",
   "pygments_lexer": "ipython3",
   "version": "3.9.7"
  }
 },
 "nbformat": 4,
 "nbformat_minor": 5
}
