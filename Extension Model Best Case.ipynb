{
 "cells": [
  {
   "cell_type": "code",
   "execution_count": 1,
   "id": "631948e1",
   "metadata": {},
   "outputs": [],
   "source": [
    "import numpy as np\n",
    "import pandas as pd\n",
    "import seaborn as sns\n",
    "import matplotlib.pyplot as plt\n",
    "import numpy.linalg as linalg"
   ]
  },
  {
   "cell_type": "code",
   "execution_count": 5,
   "id": "2280db11",
   "metadata": {},
   "outputs": [],
   "source": [
    "M_br = np.array([\n",
    "    [0.63, 0.63, 1.20, 1.20, 1.20, 1.20, 1.20, 1.20, 1.20, 1.20, 1.20, 1.20, 1.20, 1.20, 1.20, 1.20],\n",
    "    [0.00, 1.00, 0.00, 0.00, 0.00, 0.00, 0.00, 0.00, 0.00, 0.00, 0.00, 0.00, 0.00, 0.00, 0.00, 0.00],\n",
    "    [0.00, 0.00, 1.00, 0.00, 0.00, 0.00, 0.00, 0.00, 0.00, 0.00, 0.00, 0.00, 0.00, 0.00, 0.00, 0.00],\n",
    "    [0.00, 0.00, 0.00, 1.00, 0.00, 0.00, 0.00, 0.00, 0.00, 0.00, 0.00, 0.00, 0.00, 0.00, 0.00, 0.00],\n",
    "    [0.00, 0.00, 0.00, 0.00, 1.00, 0.00, 0.00, 0.00, 0.00, 0.00, 0.00, 0.00, 0.00, 0.00, 0.00, 0.00],\n",
    "    [0.00, 0.00, 0.00, 0.00, 0.00, 1.00, 0.00, 0.00, 0.00, 0.00, 0.00, 0.00, 0.00, 0.00, 0.00, 0.00],\n",
    "    [0.00, 0.00, 0.00, 0.00, 0.00, 0.00, 1.00, 0.00, 0.00, 0.00, 0.00, 0.00, 0.00, 0.00, 0.00, 0.00],\n",
    "    [0.00, 0.00, 0.00, 0.00, 0.00, 0.00, 0.00, 1.00, 0.00, 0.00, 0.00, 0.00, 0.00, 0.00, 0.00, 0.00],\n",
    "    [0.00, 0.00, 0.00, 0.00, 0.00, 0.00, 0.00, 0.00, 1.00, 0.00, 0.00, 0.00, 0.00, 0.00, 0.00, 0.00],\n",
    "    [0.00, 0.00, 0.00, 0.00, 0.00, 0.00, 0.00, 0.00, 0.00, 1.00, 0.00, 0.00, 0.00, 0.00, 0.00, 0.00],\n",
    "    [0.00, 0.00, 0.00, 0.00, 0.00, 0.00, 0.00, 0.00, 0.00, 0.00, 1.00, 0.00, 0.00, 0.00, 0.00, 0.00],\n",
    "    [0.00, 0.00, 0.00, 0.00, 0.00, 0.00, 0.00, 0.00, 0.00, 0.00, 0.00, 1.00, 0.00, 0.00, 0.00, 0.00],\n",
    "    [0.00, 0.00, 0.00, 0.00, 0.00, 0.00, 0.00, 0.00, 0.00, 0.00, 0.00, 0.00, 1.00, 0.00, 0.00, 0.00],\n",
    "    [0.00, 0.00, 0.00, 0.00, 0.00, 0.00, 0.00, 0.00, 0.00, 0.00, 0.00, 0.00, 0.00, 1.00, 0.00, 0.00],\n",
    "    [0.00, 0.00, 0.00, 0.00, 0.00, 0.00, 0.00, 0.00, 0.00, 0.00, 0.00, 0.00, 0.00, 0.00, 1.00, 0.00],\n",
    "    [0.00, 0.00, 0.00, 0.00, 0.00, 0.00, 0.00, 0.00, 0.00, 0.00, 0.00, 0.00, 0.00, 0.00,0.00, 1.00]])"
   ]
  },
  {
   "cell_type": "code",
   "execution_count": 6,
   "id": "966d0fdb",
   "metadata": {},
   "outputs": [],
   "source": [
    "M_bs = np.array([\n",
    "    [0.00, 0.00, 0.00, 0.00, 0.00, 0.00, 0.00, 0.00, 0.00, 0.00, 0.00, 0.00, 0.00, 0.00, 0.00, 0.00],\n",
    "    [0.34, 0.00, 0.00, 0.00, 0.00, 0.00, 0.00, 0.00, 0.00, 0.00, 0.00, 0.00, 0.00, 0.00, 0.00, 0.00],\n",
    "    [0.00, 0.71, 0.00, 0.00, 0.00, 0.00, 0.00, 0.00, 0.00, 0.00, 0.00, 0.00, 0.00, 0.00, 0.00, 0.00],\n",
    "    [0.00, 0.00, 0.71, 0.00, 0.00, 0.00, 0.00, 0.00, 0.00, 0.00, 0.00, 0.00, 0.00, 0.00, 0.00, 0.00],\n",
    "    [0.00, 0.00, 0.00, 0.71, 0.00, 0.00, 0.00, 0.00, 0.00, 0.00, 0.00, 0.00, 0.00, 0.00, 0.00, 0.00],\n",
    "    [0.00, 0.00, 0.00, 0.00, 0.71, 0.00, 0.00, 0.00, 0.00, 0.00, 0.00, 0.00, 0.00, 0.00, 0.00, 0.00],\n",
    "    [0.00, 0.00, 0.00, 0.00, 0.00, 0.71, 0.00, 0.00, 0.00, 0.00, 0.00, 0.00, 0.00, 0.00, 0.00, 0.00],\n",
    "    [0.00, 0.00, 0.00, 0.00, 0.00, 0.00, 0.71, 0.00, 0.00, 0.00, 0.00, 0.00, 0.00, 0.00, 0.00, 0.00],\n",
    "    [0.00, 0.00, 0.00, 0.00, 0.00, 0.00, 0.00, 0.71, 0.00, 0.00, 0.00, 0.00, 0.00, 0.00, 0.00, 0.00],\n",
    "    [0.00, 0.00, 0.00, 0.00, 0.00, 0.00, 0.00, 0.00, 0.71, 0.00, 0.00, 0.00, 0.00, 0.00, 0.00, 0.00],\n",
    "    [0.00, 0.00, 0.00, 0.00, 0.00, 0.00, 0.00, 0.00, 0.00, 0.71, 0.00, 0.00, 0.00, 0.00, 0.00, 0.00],\n",
    "    [0.00, 0.00, 0.00, 0.00, 0.00, 0.00, 0.00, 0.00, 0.00, 0.00, 0.71, 0.00, 0.00, 0.00, 0.00, 0.00],\n",
    "    [0.00, 0.00, 0.00, 0.00, 0.00, 0.00, 0.00, 0.00, 0.00, 0.00, 0.00, 0.71, 0.00, 0.00, 0.00, 0.00],\n",
    "    [0.00, 0.00, 0.00, 0.00, 0.00, 0.00, 0.00, 0.00, 0.00, 0.00, 0.00, 0.00, 0.71, 0.00, 0.00, 0.00],\n",
    "    [0.00, 0.00, 0.00, 0.00, 0.00, 0.00, 0.00, 0.00, 0.00, 0.00, 0.00, 0.00, 0.00, 0.71, 0.00, 0.00],\n",
    "    [0.00, 0.00, 0.00, 0.00, 0.00, 0.00, 0.00, 0.00, 0.00, 0.00, 0.00, 0.00, 0.00, 0.00, 0.71, 0.00]])"
   ]
  },
  {
   "cell_type": "code",
   "execution_count": 7,
   "id": "48edf7f6",
   "metadata": {},
   "outputs": [
    {
     "name": "stdout",
     "output_type": "stream",
     "text": [
      "[[119.57542426]\n",
      " [ 39.12695722]\n",
      " [ 26.98986564]\n",
      " [ 18.43256643]\n",
      " [ 14.77581161]\n",
      " [  0.86399715]\n",
      " [  1.80422935]\n",
      " [  1.80422935]\n",
      " [  1.80422935]\n",
      " [  1.80422935]\n",
      " [  1.80422935]\n",
      " [  1.80422935]\n",
      " [  1.80422935]\n",
      " [  1.80422935]\n",
      " [  1.80422935]\n",
      " [  1.80422935]]\n"
     ]
    }
   ],
   "source": [
    "init_vals = np.array([[10,10,10,10,10,10,10,10,10,10,10,10,10,10,10,10]])\n",
    "\n",
    "def population_best(T = 5,init_vals= init_vals):\n",
    "    \n",
    "    count = 1\n",
    "    while count <=T:\n",
    "        \n",
    "        if count == 1:\n",
    "            x_n = M_bs.dot(init_vals.transpose())\n",
    "            x_n = M_br.dot(x_n)\n",
    "        else:\n",
    "            x_n = M_bs.dot(x_n)\n",
    "            x_n = M_br.dot(x_n) \n",
    "        \n",
    "        count = count + 1\n",
    " \n",
    "    return x_n\n",
    "\n",
    "x_n = population_best()\n",
    "\n",
    "\n",
    "print(x_n)"
   ]
  },
  {
   "cell_type": "code",
   "execution_count": 8,
   "id": "0d1a3e74",
   "metadata": {},
   "outputs": [
    {
     "data": {
      "image/png": "[encoded data removed]",
      "text/plain": [
       "<Figure size 432x288 with 1 Axes>"
      ]
     },
     "metadata": {
      "needs_background": "light"
     },
     "output_type": "display_data"
    }
   ],
   "source": [
    "number = np.arange(17)\n",
    "number = number[1:]\n",
    "x_n = x_n.flatten()\n",
    "\n",
    "case1 = population_best()\n",
    "case2 = population_best(T = 10)\n",
    "case3 = population_best(T = 15)\n",
    "\n",
    "plt.scatter(number, case1,c = 'blue',label = 'After 5 Years',s = 5)\n",
    "plt.scatter(number, case2,c = 'red',label = 'After 10 Years',s = 5)\n",
    "plt.scatter(number, case3,c = 'green',label = 'After 15 Years',s = 5)\n",
    "plt.title('Best Case')\n",
    "plt.xlabel('Ages')\n",
    "plt.ylabel('Population')\n",
    "plt.legend(loc=\"upper right\");\n",
    "    \n",
    "plt.show()"
   ]
  },
  {
   "cell_type": "code",
   "execution_count": 9,
   "id": "e048e4af",
   "metadata": {},
   "outputs": [
    {
     "name": "stdout",
     "output_type": "stream",
     "text": [
      "[  160.           216.7754724    222.34540255   229.03529115\n",
      "   237.80691583   248.12808371   259.79254618   272.64527804\n",
      "   286.59188669   301.57865867   317.5819111    334.600018\n",
      "   352.64785123   371.75287132   391.95240081   413.33954656\n",
      "   435.40297937   458.75467632   483.35885183   509.29514687\n",
      "   536.62993692   565.43679993   595.79336398   627.78186863\n",
      "   661.4892273    697.00721014   734.43264692   773.86765906\n",
      "   815.41991508   859.20290815   905.33625418   953.94589553\n",
      "  1005.16591231  1059.13608432  1116.00413097  1175.92561709\n",
      "  1239.06448257  1305.59346972  1375.6945988   1449.55966484\n",
      "  1527.39076216  1609.40083705  1695.81427022  1786.86749059\n",
      "  1882.80962208  1983.90316523  2090.42471536  2202.66571962\n",
      "  2320.93327111  2445.55095291  2576.8597219   2715.21884203\n",
      "  2861.00686721  3014.62267701  3176.48656802  3347.04140379\n",
      "  3526.75382651  3716.11553376  3915.6446238   4125.88701309\n",
      "  4347.41792994  4580.84348834  4826.80234633  5085.96745334\n",
      "  5359.04789143  5646.79081533  5949.98349672  6269.45547817\n",
      "  6606.08084281  6960.78060586  7334.52523453  7728.33730325\n",
      "  8143.29429143  8580.53153154  9041.24531533  9526.69616695\n",
      " 10038.21229179 10577.19321044 11145.11358786 11743.52726805\n",
      " 12374.07152546 13038.47154455 13738.54513999 14476.20773023\n",
      " 15253.47757811 16072.48131292 16935.45974884 17844.77401596\n",
      " 18802.91202029 19812.4952508  20876.28595184 21997.19468074\n",
      " 23178.28827114 24422.79822391 25734.12954868 27115.87007993\n",
      " 28571.8002935  30105.90364997 31722.37749357 33425.64453618\n",
      " 35220.36495801]\n"
     ]
    }
   ],
   "source": [
    "def total_best(T = 100,init_vals= init_vals):\n",
    "    \n",
    "    i = 0\n",
    "    total_p = np.zeros(T+1)\n",
    "    tvec = np.arange(T+1)\n",
    "    init_vals = init_vals.flatten()\n",
    "    while i <=T:\n",
    "        \n",
    "        if i == 0:\n",
    "            x_n = M_bs.dot(init_vals.transpose())\n",
    "            x_n = M_br.dot(x_n)\n",
    "            total_p[i] = sum(init_vals)\n",
    "        else:\n",
    "            x_n = M_bs.dot(x_n)\n",
    "            x_n = M_br.dot(x_n) \n",
    "            total_p[i] = sum(x_n)\n",
    "        i = i + 1\n",
    "        \n",
    "    return total_p\n",
    "\n",
    "total_p = total_best()\n",
    "print(total_p)"
   ]
  },
  {
   "cell_type": "code",
   "execution_count": 10,
   "id": "d1e942f4",
   "metadata": {},
   "outputs": [
    {
     "data": {
      "text/plain": [
       "<matplotlib.collections.PathCollection at 0x7f08ce37f340>"
      ]
     },
     "execution_count": 10,
     "metadata": {},
     "output_type": "execute_result"
    },
    {
     "data": {
      "image/png": "[encoded data removed]",
      "text/plain": [
       "<Figure size 432x288 with 1 Axes>"
      ]
     },
     "metadata": {
      "needs_background": "light"
     },
     "output_type": "display_data"
    }
   ],
   "source": [
    "number = np.arange(101)\n",
    "total_p = total_best()\n",
    "plt.scatter(number, total_p,label = 'Total Population After 100 Years in Best Case',s = 5)"
   ]
  }
 ],
 "metadata": {
  "kernelspec": {
   "display_name": "Python 3 (ipykernel)",
   "language": "python",
   "name": "python3"
  },
  "language_info": {
   "codemirror_mode": {
    "name": "ipython",
    "version": 3
   },
   "file_extension": ".py",
   "mimetype": "text/x-python",
   "name": "python",
   "nbconvert_exporter": "python",
   "pygments_lexer": "ipython3",
   "version": "3.9.7"
  }
 },
 "nbformat": 4,
 "nbformat_minor": 5
}
