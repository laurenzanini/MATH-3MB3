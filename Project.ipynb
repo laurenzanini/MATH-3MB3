{
 "cells": [
  {
   "cell_type": "code",
   "execution_count": 2,
   "id": "e23a7576",
   "metadata": {},
   "outputs": [],
   "source": [
    "import numpy as np\n",
    "import pandas as pd\n",
    "import seaborn as sns\n",
    "import matplotlib.pyplot as plt\n",
    "import numpy.linalg as linalg"
   ]
  },
  {
   "cell_type": "code",
   "execution_count": 3,
   "id": "c3aac288",
   "metadata": {},
   "outputs": [],
   "source": [
    "M_best = np.array([\n",
    "    [0.63, 0.63, 1.20, 1.20, 1.20, 1.20, 1.20, 1.20, 1.20, 1.20, 1.20, 1.20, 1.20, 1.20, 1.20, 1.20],\n",
    "    [0.34, 0.00, 0.00, 0.00, 0.00, 0.00, 0.00, 0.00, 0.00, 0.00, 0.00, 0.00, 0.00, 0.00, 0.00, 0.00],\n",
    "    [0.00, 0.71, 0.00, 0.00, 0.00, 0.00, 0.00, 0.00, 0.00, 0.00, 0.00, 0.00, 0.00, 0.00, 0.00, 0.00],\n",
    "    [0.00, 0.00, 0.71, 0.00, 0.00, 0.00, 0.00, 0.00, 0.00, 0.00, 0.00, 0.00, 0.00, 0.00, 0.00, 0.00],\n",
    "    [0.00, 0.00, 0.00, 0.71, 0.00, 0.00, 0.00, 0.00, 0.00, 0.00, 0.00, 0.00, 0.00, 0.00, 0.00, 0.00],\n",
    "    [0.00, 0.00, 0.00, 0.00, 0.71, 0.00, 0.00, 0.00, 0.00, 0.00, 0.00, 0.00, 0.00, 0.00, 0.00, 0.00],\n",
    "    [0.00, 0.00, 0.00, 0.00, 0.00, 0.71, 0.00, 0.00, 0.00, 0.00, 0.00, 0.00, 0.00, 0.00, 0.00, 0.00],\n",
    "    [0.00, 0.00, 0.00, 0.00, 0.00, 0.00, 0.71, 0.00, 0.00, 0.00, 0.00, 0.00, 0.00, 0.00, 0.00, 0.00],\n",
    "    [0.00, 0.00, 0.00, 0.00, 0.00, 0.00, 0.00, 0.71, 0.00, 0.00, 0.00, 0.00, 0.00, 0.00, 0.00, 0.00],\n",
    "    [0.00, 0.00, 0.00, 0.00, 0.00, 0.00, 0.00, 0.00, 0.71, 0.00, 0.00, 0.00, 0.00, 0.00, 0.00, 0.00],\n",
    "    [0.00, 0.00, 0.00, 0.00, 0.00, 0.00, 0.00, 0.00, 0.00, 0.71, 0.00, 0.00, 0.00, 0.00, 0.00, 0.00],\n",
    "    [0.00, 0.00, 0.00, 0.00, 0.00, 0.00, 0.00, 0.00, 0.00, 0.00, 0.71, 0.00, 0.00, 0.00, 0.00, 0.00],\n",
    "    [0.00, 0.00, 0.00, 0.00, 0.00, 0.00, 0.00, 0.00, 0.00, 0.00, 0.00, 0.71, 0.00, 0.00, 0.00, 0.00],\n",
    "    [0.00, 0.00, 0.00, 0.00, 0.00, 0.00, 0.00, 0.00, 0.00, 0.00, 0.00, 0.00, 0.71, 0.00, 0.00, 0.00],\n",
    "    [0.00, 0.00, 0.00, 0.00, 0.00, 0.00, 0.00, 0.00, 0.00, 0.00, 0.00, 0.00, 0.00, 0.71, 0.00, 0.00],\n",
    "    [0.00, 0.00, 0.00, 0.00, 0.00, 0.00, 0.00, 0.00, 0.00, 0.00, 0.00, 0.00, 0.00, 0.00, 0.71, 0.00]])"
   ]
  },
  {
   "cell_type": "code",
   "execution_count": 4,
   "id": "da64eb7b",
   "metadata": {},
   "outputs": [],
   "source": [
    "M_worst = np.array([\n",
    "    [0.60, 0.60, 1.15, 1.15, 1.15, 1.15, 1.15, 1.15, 1.15, 1.15, 1.15, 1.15, 1.15, 1.15, 1.15, 1.15],\n",
    "    [0.32, 0.00, 0.00, 0.00, 0.00, 0.00, 0.00, 0.00, 0.00, 0.00, 0.00, 0.00, 0.00, 0.00, 0.00, 0.00],\n",
    "    [0.00, 0.68, 0.00, 0.00, 0.00, 0.00, 0.00, 0.00, 0.00, 0.00, 0.00, 0.00, 0.00, 0.00, 0.00, 0.00],\n",
    "    [0.00, 0.00, 0.68, 0.00, 0.00, 0.00, 0.00, 0.00, 0.00, 0.00, 0.00, 0.00, 0.00, 0.00, 0.00, 0.00],\n",
    "    [0.00, 0.00, 0.00, 0.68, 0.00, 0.00, 0.00, 0.00, 0.00, 0.00, 0.00, 0.00, 0.00, 0.00, 0.00, 0.00],\n",
    "    [0.00, 0.00, 0.00, 0.00, 0.68, 0.00, 0.00, 0.00, 0.00, 0.00, 0.00, 0.00, 0.00, 0.00, 0.00, 0.00],\n",
    "    [0.00, 0.00, 0.00, 0.00, 0.00, 0.68, 0.00, 0.00, 0.00, 0.00, 0.00, 0.00, 0.00, 0.00, 0.00, 0.00],\n",
    "    [0.00, 0.00, 0.00, 0.00, 0.00, 0.00, 0.68, 0.00, 0.00, 0.00, 0.00, 0.00, 0.00, 0.00, 0.00, 0.00],\n",
    "    [0.00, 0.00, 0.00, 0.00, 0.00, 0.00, 0.00, 0.68, 0.00, 0.00, 0.00, 0.00, 0.00, 0.00, 0.00, 0.00],\n",
    "    [0.00, 0.00, 0.00, 0.00, 0.00, 0.00, 0.00, 0.00, 0.68, 0.00, 0.00, 0.00, 0.00, 0.00, 0.00, 0.00],\n",
    "    [0.00, 0.00, 0.00, 0.00, 0.00, 0.00, 0.00, 0.00, 0.00, 0.68, 0.00, 0.00, 0.00, 0.00, 0.00, 0.00],\n",
    "    [0.00, 0.00, 0.00, 0.00, 0.00, 0.00, 0.00, 0.00, 0.00, 0.00, 0.68, 0.00, 0.00, 0.00, 0.00, 0.00],\n",
    "    [0.00, 0.00, 0.00, 0.00, 0.00, 0.00, 0.00, 0.00, 0.00, 0.00, 0.00, 0.68, 0.00, 0.00, 0.00, 0.00],\n",
    "    [0.00, 0.00, 0.00, 0.00, 0.00, 0.00, 0.00, 0.00, 0.00, 0.00, 0.00, 0.00, 0.68, 0.00, 0.00, 0.00],\n",
    "    [0.00, 0.00, 0.00, 0.00, 0.00, 0.00, 0.00, 0.00, 0.00, 0.00, 0.00, 0.00, 0.00, 0.68, 0.00, 0.00],\n",
    "    [0.00, 0.00, 0.00, 0.00, 0.00, 0.00, 0.00, 0.00, 0.00, 0.00, 0.00, 0.00, 0.00, 0.00, 0.68, 0.00]])"
   ]
  },
  {
   "cell_type": "code",
   "execution_count": 5,
   "id": "badd7ab2",
   "metadata": {},
   "outputs": [
    {
     "name": "stdout",
     "output_type": "stream",
     "text": [
      "[[4.13458295e+02]\n",
      " [1.13314960e+02]\n",
      " [6.48218018e+01]\n",
      " [3.75012163e+01]\n",
      " [2.21706537e+01]\n",
      " [1.17158014e+01]\n",
      " [3.06718990e+00]\n",
      " [3.84300852e+00]\n",
      " [2.56200568e+00]\n",
      " [1.28100284e+00]\n",
      " [1.02480227e+00]\n",
      " [7.68601704e-01]\n",
      " [6.40501420e-01]\n",
      " [5.12401136e-01]\n",
      " [5.12401136e-01]\n",
      " [3.84300852e-01]]\n"
     ]
    }
   ],
   "source": [
    "init_vals = np.array([[50,30,20,10,8,6,5,4,4,3,3,3,2,2,1,0]])\n",
    "\n",
    "def population_b(T = 6,init_vals= init_vals):\n",
    "        \n",
    "    x_n = linalg.matrix_power(M_best,T).dot(init_vals.transpose())\n",
    "    \n",
    "\n",
    "    return x_n\n",
    "x_n = population_b()\n",
    "\n",
    "print(x_n)"
   ]
  },
  {
   "cell_type": "code",
   "execution_count": 6,
   "id": "1a27f6c1",
   "metadata": {},
   "outputs": [
    {
     "data": {
      "image/png": "[encoded data removed]",
      "text/plain": [
       "<Figure size 432x288 with 1 Axes>"
      ]
     },
     "metadata": {
      "needs_background": "light"
     },
     "output_type": "display_data"
    }
   ],
   "source": [
    "number = np.arange(17)\n",
    "number = number[1:]\n",
    "x_n = x_n.flatten()\n",
    "\n",
    "case1 = population_b()\n",
    "case2 = population_b(T = 10)\n",
    "case3 = population_b(T = 20)\n",
    "\n",
    "plt.scatter(number, case1,c = 'blue',label = 'After 5 Years',s = 5)\n",
    "plt.scatter(number, case2,c = 'red',label = 'After 10 Years',s = 5)\n",
    "plt.scatter(number, case3,c = 'green',label = 'After 20 Years',s = 5)\n",
    "plt.xlabel('Ages')\n",
    "plt.ylabel('Population')\n",
    "plt.legend(loc=\"upper right\");\n",
    "    \n",
    "plt.show()"
   ]
  },
  {
   "cell_type": "code",
   "execution_count": 7,
   "id": "eb46f68e",
   "metadata": {},
   "outputs": [
    {
     "name": "stdout",
     "output_type": "stream",
     "text": [
      "[[3.11089552e+02]\n",
      " [8.42199027e+01]\n",
      " [4.84321212e+01]\n",
      " [2.81736991e+01]\n",
      " [1.67400578e+01]\n",
      " [8.87070527e+00]\n",
      " [2.32629371e+00]\n",
      " [2.96602448e+00]\n",
      " [1.97734965e+00]\n",
      " [9.88674826e-01]\n",
      " [7.90939861e-01]\n",
      " [5.93204896e-01]\n",
      " [4.94337413e-01]\n",
      " [3.95469930e-01]\n",
      " [3.95469930e-01]\n",
      " [2.96602448e-01]]\n"
     ]
    }
   ],
   "source": [
    "init_vals = np.array([[50,30,20,10,8,6,5,4,4,3,3,3,2,2,1,0]])\n",
    "\n",
    "def population_w(T = 6,init_vals= init_vals):\n",
    "        \n",
    "    x_n2 = linalg.matrix_power(M_worst,T).dot(init_vals.transpose())\n",
    "    \n",
    "\n",
    "    return x_n2\n",
    "x_n2 = population_w()\n",
    "\n",
    "print(x_n2)"
   ]
  },
  {
   "cell_type": "code",
   "execution_count": 8,
   "id": "47010427",
   "metadata": {},
   "outputs": [
    {
     "data": {
      "image/png": "[encoded data removed]",
      "text/plain": [
       "<Figure size 432x288 with 1 Axes>"
      ]
     },
     "metadata": {
      "needs_background": "light"
     },
     "output_type": "display_data"
    }
   ],
   "source": [
    "number = np.arange(17)\n",
    "number = number[1:]\n",
    "x_n2 = x_n2.flatten()\n",
    "\n",
    "case4 = population_w()\n",
    "case5 = population_w(T = 10)\n",
    "case6 = population_w(T = 20)\n",
    "\n",
    "plt.scatter(number, case4,c = 'blue',label = 'After 5 Years',s = 5)\n",
    "plt.scatter(number, case5,c = 'red',label = 'After 10 Years',s = 5)\n",
    "plt.scatter(number, case6,c = 'green',label = 'After 20 Years',s = 5)\n",
    "plt.xlabel('Ages')\n",
    "plt.ylabel('Population')\n",
    "plt.legend(loc=\"upper right\");\n",
    "    \n",
    "plt.show()"
   ]
  }
 ],
 "metadata": {
  "kernelspec": {
   "display_name": "Python 3 (ipykernel)",
   "language": "python",
   "name": "python3"
  },
  "language_info": {
   "codemirror_mode": {
    "name": "ipython",
    "version": 3
   },
   "file_extension": ".py",
   "mimetype": "text/x-python",
   "name": "python",
   "nbconvert_exporter": "python",
   "pygments_lexer": "ipython3",
   "version": "3.9.7"
  }
 },
 "nbformat": 4,
 "nbformat_minor": 5
}
